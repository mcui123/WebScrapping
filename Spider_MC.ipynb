{
 "cells": [
  {
   "cell_type": "code",
   "execution_count": 1,
   "metadata": {},
   "outputs": [],
   "source": [
    "import requests"
   ]
  },
  {
   "cell_type": "code",
   "execution_count": 2,
   "metadata": {},
   "outputs": [],
   "source": [
    "from lxml.html import document_fromstring"
   ]
  },
  {
   "cell_type": "code",
   "execution_count": 3,
   "metadata": {},
   "outputs": [],
   "source": [
    "data = requests.get(\"https://www.cia.gov/library/publications/resources/the-world-factbook/docs/rankorderguide.html\").text"
   ]
  },
  {
   "cell_type": "code",
   "execution_count": 5,
   "metadata": {},
   "outputs": [],
   "source": [
    "data = document_fromstring(data)"
   ]
  },
  {
   "cell_type": "code",
   "execution_count": 7,
   "metadata": {},
   "outputs": [],
   "source": [
    "attrs = data.xpath(\"//*[@id='profileguide']/*/div/strong/a\")"
   ]
  },
  {
   "cell_type": "code",
   "execution_count": 20,
   "metadata": {},
   "outputs": [
    {
     "data": {
      "text/plain": [
       "('../fields/279rank.html', 'Area:')"
      ]
     },
     "execution_count": 20,
     "metadata": {},
     "output_type": "execute_result"
    }
   ],
   "source": [
    "attrs[0].attrib['href'], attrs[0].text"
   ]
  },
  {
   "cell_type": "code",
   "execution_count": 26,
   "metadata": {},
   "outputs": [
    {
     "data": {
      "text/plain": [
       "'https://www.cia.gov/library/publications/resources/the-world-factbook/fields/279rank.html'"
      ]
     },
     "execution_count": 26,
     "metadata": {},
     "output_type": "execute_result"
    }
   ],
   "source": [
    "url = \"https://www.cia.gov/library/publications/resources/the-world-factbook/\"+attrs[0].attrib['href'][3:]\n",
    "url"
   ]
  },
  {
   "cell_type": "code",
   "execution_count": 27,
   "metadata": {},
   "outputs": [],
   "source": [
    "def to_lxml(url):\n",
    "    return document_fromstring(requests.get(url).text)"
   ]
  },
  {
   "cell_type": "code",
   "execution_count": 28,
   "metadata": {},
   "outputs": [],
   "source": [
    "def get_data(url):\n",
    "    data = to_lxml(url)\n",
    "    country = data.xpath(\"//*[@id='rankOrder']/tbody/*/td[2]/a/text()\")\n",
    "    value = data.xpath(\"//*[@id='rankOrder']/tbody/*/td[3]/text()\")\n",
    "    return [country, value]"
   ]
  },
  {
   "cell_type": "code",
   "execution_count": 40,
   "metadata": {},
   "outputs": [],
   "source": [
    "all_data = []\n",
    "for attr in attrs:\n",
    "    field = attr.text\n",
    "    url = \"https://www.cia.gov/library/publications/resources/the-world-factbook/\"+attr.attrib['href'][3:]\n",
    "    all_data.append([field, get_data(url)])"
   ]
  },
  {
   "cell_type": "code",
   "execution_count": 45,
   "metadata": {},
   "outputs": [],
   "source": [
    "region_data = to_lxml(\"https://www.cia.gov/library/publications/resources/the-world-factbook/fields/279rank.html\")"
   ]
  },
  {
   "cell_type": "code",
   "execution_count": 47,
   "metadata": {},
   "outputs": [],
   "source": [
    "regions = region_data.xpath(\"//*[@id='rankOrder']/tbody/tr/@class\")\n",
    "regions = [r[10:] for r in regions]"
   ]
  },
  {
   "cell_type": "code",
   "execution_count": 57,
   "metadata": {},
   "outputs": [],
   "source": [
    "country_data = {}\n",
    "country = all_data[0][1][0]"
   ]
  },
  {
   "cell_type": "code",
   "execution_count": 60,
   "metadata": {},
   "outputs": [],
   "source": [
    "for i, c in enumerate(country):\n",
    "    country_data[c] = [c, regions[i]]"
   ]
  },
  {
   "cell_type": "code",
   "execution_count": 78,
   "metadata": {},
   "outputs": [],
   "source": [
    "data_s = {}\n",
    "all_attr = [\"Country\", \"Continent\"]\n",
    "for attr_data in all_data:\n",
    "    attr, d = attr_data\n",
    "    all_attr.append(attr[:-1])\n",
    "    c, v = d\n",
    "    data_s[attr] = {c[i]: v[i] for i in range(len(c))}"
   ]
  },
  {
   "cell_type": "code",
   "execution_count": 71,
   "metadata": {},
   "outputs": [],
   "source": [
    "for c in country:\n",
    "    for data in all_data:\n",
    "        attr = data[0]\n",
    "        value = \"\"\n",
    "        if c in data_s[attr]:\n",
    "            value = data_s[attr][c]\n",
    "        country_data[c].append(value)"
   ]
  },
  {
   "cell_type": "code",
   "execution_count": 79,
   "metadata": {},
   "outputs": [
    {
     "data": {
      "text/plain": [
       "['Country',\n",
       " 'Continent',\n",
       " 'Area',\n",
       " 'Population',\n",
       " 'Median age',\n",
       " 'Population growth rate',\n",
       " 'Birth rate',\n",
       " 'Death rate',\n",
       " 'Net migration rate',\n",
       " 'Maternal mortality rate',\n",
       " 'Infant mortality rate',\n",
       " 'Life expectancy at birth',\n",
       " 'Total fertility rate',\n",
       " 'Health expenditures',\n",
       " 'HIV/AIDS - adult prevalence rate',\n",
       " 'HIV/AIDS - people living with HIV/AIDS',\n",
       " 'HIV/AIDS - deaths',\n",
       " 'Obesity - adult prevalence rate',\n",
       " 'Children under the age of 5 years underweight',\n",
       " 'Education expenditures',\n",
       " 'Unemployment, youth ages 15-24',\n",
       " 'GDP (purchasing power parity)',\n",
       " 'GDP - real growth rate',\n",
       " 'GDP - per capita (PPP)',\n",
       " 'Gross national saving',\n",
       " 'Industrial production growth rate',\n",
       " 'Labor force',\n",
       " 'Unemployment rate',\n",
       " 'Distribution of family income - Gini index',\n",
       " 'Taxes and other revenues',\n",
       " 'Budget surplus (+) or deficit (-)',\n",
       " 'Public debt',\n",
       " 'Inflation rate (consumer prices)',\n",
       " 'Central bank discount rate',\n",
       " 'Commercial bank prime lending rate',\n",
       " 'Stock of narrow money',\n",
       " 'Stock of broad money',\n",
       " 'Stock of domestic credit',\n",
       " 'Market value of publicly traded shares',\n",
       " 'Current account balance',\n",
       " 'Exports',\n",
       " 'Imports',\n",
       " 'Reserves of foreign exchange and gold',\n",
       " 'Debt - external',\n",
       " 'Stock of direct foreign investment - at home',\n",
       " 'Stock of direct foreign investment - abroad',\n",
       " 'Electricity - production',\n",
       " 'Electricity - consumption',\n",
       " 'Electricity - exports',\n",
       " 'Electricity - imports',\n",
       " 'Electricity - installed generating capacity',\n",
       " 'Electricity - from fossil fuels',\n",
       " 'Electricity - from nuclear fuels',\n",
       " 'Electricity - from hydroelectric plants',\n",
       " 'Electricity - from other renewable sources',\n",
       " 'Crude oil - production',\n",
       " 'Crude oil - exports',\n",
       " 'Crude oil - imports',\n",
       " 'Crude oil - proved reserves',\n",
       " 'Refined petroleum products - production',\n",
       " 'Refined petroleum products - consumption',\n",
       " 'Refined petroleum products - exports',\n",
       " 'Refined petroleum products - imports',\n",
       " 'Natural gas - production',\n",
       " 'Natural gas - consumption',\n",
       " 'Natural gas - exports',\n",
       " 'Natural gas - imports',\n",
       " 'Natural gas - proved reserves',\n",
       " 'Carbon dioxide emissions from consumption of energy',\n",
       " 'Telephones - fixed lines',\n",
       " 'Telephones - mobile cellular',\n",
       " 'Internet users',\n",
       " 'Broadband - fixed subscriptions',\n",
       " 'Airports',\n",
       " 'Railways',\n",
       " 'Roadways',\n",
       " 'Waterways',\n",
       " 'Merchant marine',\n",
       " 'Military expenditures']"
      ]
     },
     "execution_count": 79,
     "metadata": {},
     "output_type": "execute_result"
    }
   ],
   "source": [
    "all_attr"
   ]
  },
  {
   "cell_type": "code",
   "execution_count": 80,
   "metadata": {},
   "outputs": [],
   "source": [
    "import csv\n",
    "\n",
    "with open(\"data.csv\",\"w\") as csvfile: \n",
    "    writer = csv.writer(csvfile)\n",
    "    writer.writerow(all_attr)\n",
    "    for c in country:\n",
    "        writer.writerow(country_data[c])"
   ]
  },
  {
   "cell_type": "code",
   "execution_count": null,
   "metadata": {},
   "outputs": [],
   "source": []
  }
 ],
 "metadata": {
  "kernelspec": {
   "display_name": "Python 3",
   "language": "python",
   "name": "python3"
  },
  "language_info": {
   "codemirror_mode": {
    "name": "ipython",
    "version": 3
   },
   "file_extension": ".py",
   "mimetype": "text/x-python",
   "name": "python",
   "nbconvert_exporter": "python",
   "pygments_lexer": "ipython3",
   "version": "3.7.3"
  }
 },
 "nbformat": 4,
 "nbformat_minor": 2
}
